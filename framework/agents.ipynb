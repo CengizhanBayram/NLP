{
 "cells": [
  {
   "cell_type": "code",
   "execution_count": 4,
   "metadata": {},
   "outputs": [
    {
     "data": {
      "text/plain": [
       "<bound method PythonREPL.run of PythonREPL(globals={}, locals={})>"
      ]
     },
     "execution_count": 4,
     "metadata": {},
     "output_type": "execute_result"
    }
   ],
   "source": [
    "from langchain_experimental.utilities import PythonREPL\n",
    "pyhtonrepl = PythonREPL()\n",
    "pyhtonrepl.run"
   ]
  },
  {
   "cell_type": "code",
   "execution_count": 5,
   "metadata": {},
   "outputs": [
    {
     "data": {
      "text/plain": [
       "True"
      ]
     },
     "execution_count": 5,
     "metadata": {},
     "output_type": "execute_result"
    }
   ],
   "source": [
    "import os \n",
    "from dotenv import load_dotenv,find_dotenv\n",
    "load_dotenv(find_dotenv())\n"
   ]
  },
  {
   "cell_type": "code",
   "execution_count": 6,
   "metadata": {},
   "outputs": [
    {
     "name": "stdout",
     "output_type": "stream",
     "text": [
      "\n",
      "\n",
      "\u001b[1m> Entering new AgentExecutor chain...\u001b[0m\n",
      "\u001b[32;1m\u001b[1;3mWe need to calculate the factorial of 12 first, then take the square root of that result, and finally display it with 4 decimal points.\n",
      "Action: python_repl_ast\n",
      "Action Input: from math import sqrt, factorial\u001b[0m\n",
      "Observation: \u001b[36;1m\u001b[1;3m\u001b[0m\n",
      "Thought:\u001b[32;1m\u001b[1;3mThe math module needs to be imported to access the sqrt and factorial functions.\n",
      "Action: python_repl_ast\n",
      "Action Input: result = sqrt(factorial(12))\u001b[0m\n",
      "Observation: \u001b[36;1m\u001b[1;3m\u001b[0m\n",
      "Thought:\u001b[32;1m\u001b[1;3mWe have calculated the square root of the factorial of 12, now we need to display it with 4 decimal points.\n",
      "Action: python_repl_ast\n",
      "Action Input: \"{:.4f}\".format(result)\u001b[0m\n",
      "Observation: \u001b[36;1m\u001b[1;3mSyntaxError: invalid decimal literal (<unknown>, line 1)\u001b[0m\n",
      "Thought:\u001b[32;1m\u001b[1;3mThere seems to be an issue with the syntax used to format the result with 4 decimal points. Let's try a different approach.\n",
      "Action: python_repl_ast\n",
      "Action Input: round(result, 4)\u001b[0m\n",
      "Observation: \u001b[36;1m\u001b[1;3m21886.1052\u001b[0m\n",
      "Thought:\u001b[32;1m\u001b[1;3mThe square root of the factorial of 12 displayed with 4 decimal points is 21886.1052\n",
      "Final Answer: 21886.1052\u001b[0m\n",
      "\n",
      "\u001b[1m> Finished chain.\u001b[0m\n"
     ]
    },
    {
     "data": {
      "text/plain": [
       "{'input': 'calculate square root of the factorial of 12 and display it with 4 decimal points ',\n",
       " 'output': '21886.1052'}"
      ]
     },
     "execution_count": 6,
     "metadata": {},
     "output_type": "execute_result"
    }
   ],
   "source": [
    "from langchain_experimental.agents.agent_toolkits import create_python_agent\n",
    "from langchain_experimental.tools.python.tool import PythonAstREPLTool\n",
    "from langchain_openai import ChatOpenAI\n",
    "\n",
    "llm = ChatOpenAI(model=\"gpt-3.5-turbo\",temperature=0.8)\n",
    "agent_executor = create_python_agent(llm=llm ,tool=PythonAstREPLTool(),verbose=True)\n",
    "agent_executor.invoke(\"calculate square root of the factorial of 12 and display it with 4 decimal points \")\n"
   ]
  },
  {
   "cell_type": "code",
   "execution_count": null,
   "metadata": {},
   "outputs": [],
   "source": []
  },
  {
   "cell_type": "markdown",
   "metadata": {},
   "source": [
    "Langchain tools : "
   ]
  },
  {
   "cell_type": "markdown",
   "metadata": {},
   "source": []
  },
  {
   "cell_type": "code",
   "execution_count": 1,
   "metadata": {},
   "outputs": [
    {
     "name": "stdout",
     "output_type": "stream",
     "text": [
      "Note: you may need to restart the kernel to use updated packages.\n"
     ]
    }
   ],
   "source": [
    "pip install -q duckduckgo-search"
   ]
  },
  {
   "cell_type": "code",
   "execution_count": 4,
   "metadata": {},
   "outputs": [
    {
     "name": "stdout",
     "output_type": "stream",
     "text": [
      "Mahmut Tuncer (d. 5 Mayıs, 1961, Şanlıurfa), Türk şarkıcı, besteci, oyuncu ve sunucu. Ailesinin beşinci çocuğu olarak 1961 yılında Şanlıurfa'da doğmuştur. Karakeçililer'dendir. Küçük yaşlardan itibaren futbol ile ilgilenmiş ve Urfaspor'da profesyonel oyuncu olarak görev aldı. Hayatını futbolcu olarak devam ettiren ... Kısaca Hayatı (Biyografi) Ailesinin beşinci çocuğu olan Mahmut Tuncer, ilk olarak Urfaspor'da futbolcu olarak kariyerine başladı.Profesyonel bir sporcuydu ve o yıllarda oyuncu veya şarkıcı olmak aklının ucundan bile geçmiyordu. 11 Nisan 1979 yılında Urfa'nın kurtuluş gecesinde herkes İmparator lakaplı İbrahim Tatlıses'in sahne almasını bekliyordu. The following is a list of notable Turkish Germans.This includes people of full or partial ethnic Turkish origin born in Germany, as well as ethnic Turkish immigrants who have arrived in Germany either from the Seljuk and Ottoman territories or from post-Ottoman modern nation-states (especially from the Republic of Turkey, but also from the Balkans, Cyprus, as well as other parts of the Levant ... Mahmut Tuncer, Necmi Yapıcı, Mehmet Ali Kaptanlar, Sera Tokdemir, Korhan Herduran, Buse Sinem İren, Bedia Ener, Atilla Olgaç ve Mehmet Ali Erbil'in başrolünü paylaştığı 'Bakkal Amca Mahmut Tuncer' filmi için geri sayım başladı.. ABSÜRT AÇIDAN ELE ALINDI. Mahmut Tuncer'in absürt bir açıdan ele alınan biyografi filmi, 3 Mayıs'ta vizyona girecek. Filmin başrollerini ise Mahmut Tuncer'in yanı sıra Necmi Yapıcı, Mehmet Ali Kaptanlar, Sera Tokdemir, Korhan Herduran, Buse Sinem İren, Bedia Ener, Atilla Olgaç ve Mehmet Ali Erbil gibi tanınmış isimler paylaşıyor. 3 MAYIS'TA İZLEYİCİYLE BULUŞACAK. Film, Mahmut Tuncer'in yaşamına dair çarpıcı anekdotlarla dolu.\n"
     ]
    }
   ],
   "source": [
    "from langchain.tools import DuckDuckGoSearchRun\n",
    "\n",
    "search =DuckDuckGoSearchRun()\n",
    "output = search.invoke('where was Mahmut Tuncer Born?')\n",
    "print(output)"
   ]
  },
  {
   "cell_type": "code",
   "execution_count": 5,
   "metadata": {},
   "outputs": [
    {
     "data": {
      "text/plain": [
       "'duckduckgo_search'"
      ]
     },
     "execution_count": 5,
     "metadata": {},
     "output_type": "execute_result"
    }
   ],
   "source": [
    "search.name"
   ]
  },
  {
   "cell_type": "code",
   "execution_count": 6,
   "metadata": {},
   "outputs": [
    {
     "data": {
      "text/plain": [
       "'A wrapper around DuckDuckGo Search. Useful for when you need to answer questions about current events. Input should be a search query.'"
      ]
     },
     "execution_count": 6,
     "metadata": {},
     "output_type": "execute_result"
    }
   ],
   "source": [
    "search.description"
   ]
  },
  {
   "cell_type": "code",
   "execution_count": 7,
   "metadata": {},
   "outputs": [
    {
     "name": "stdout",
     "output_type": "stream",
     "text": [
      "snippet: Linç@'in bu haftaki konuğu Mahmut Tuncer, hakkında yapılan sert ve eğlenceli yorumlara yanıt veriyor. TRT Stüdyolarına eşeği nasıl soktu? Papağanına halay çe..., title: Linç@ - Mahmut Tuncer - YouTube, link: https://www.youtube.com/watch?v=6Sqp7_EXQ1w, snippet: Abone olmak için: https://bit.ly/3RVOyEdVizyon:3 Mayıs 2024Oyuncular:Mahmut TuncerMehmet Ali ErbilNecmi YapıcıMehmet Ali KaptanlarBuse Sinem irenKorhan Herdu..., title: Bakkal Amca - Mahmut Tuncer | Yılın Biyografi Filmi Fragmanı, link: https://www.youtube.com/watch?v=ZJhU63AJEOQ, snippet: Yetenek Sizsiniz Türkiye - 3 Direkşın ekibinin eğlenceli gösterisi gülme krizine soktu.4.Sezon 15.Bölüm izlemek için: https://youtu.be/WkIl6i3NgVUTürkiye'nin..., title: Mahmut Tuncer Ödül Töreni Skeci | Yetenek Sizsiniz ... - YouTube, link: https://www.youtube.com/watch?v=AZLA88jFivE, snippet: Mahmut Tuncer (d. 5 Mayıs, 1961, Şanlıurfa), Türk şarkıcı, besteci, oyuncu ve sunucu. Ailesinin beşinci çocuğu olarak 1961 yılında Şanlıurfa'da doğmuştur. Karakeçililer'dendir. Küçük yaşlardan itibaren futbol ile ilgilenmiş ve Urfaspor'da profesyonel oyuncu olarak görev aldı. Hayatını futbolcu olarak devam ettiren ..., title: Mahmut Tuncer - Kimdir, kaç yaşında, nereli, boyu ve kilosu ..., link: https://biyografikimdir.com/mahmut-tuncer\n"
     ]
    }
   ],
   "source": [
    "from langchain.tools import DuckDuckGoSearchResults\n",
    "search = DuckDuckGoSearchResults()\n",
    "output = search.invoke('Mahmut Tuncer')\n",
    "print(output)"
   ]
  },
  {
   "cell_type": "code",
   "execution_count": 8,
   "metadata": {},
   "outputs": [
    {
     "name": "stdout",
     "output_type": "stream",
     "text": [
      "snippet: Tarihi, kültürü ve manevi değerleriyle Türkiye'nin en önemli merkezlerinden biri olan Konya, binlerce yıllık medeniyetlerin mirasını barındırıyor. Bu kapsamlı rehberde, Konya'nın görülmesi gereken yerleri, yerel mutfak lezzetleri, konaklama seçenekleri ve gezginler için önemli bilgileri bulacaksınız., title: Konya Gezi Rehberi: Mevlana'nın Şehri | Gezipedia 2024, link: https://gezipedia.com.tr/gezi-rehberi/konya-gezi-rehberi-mevlananin-sehri/, snippet: Anadolu Selçuklularının ve Karamanoğulları'nın başkentliğini yapmış olan Konya'da geçmişe yolculuğa çıkmanız mümkün. Konya'da gezilecek yerler listesini paylaşacağız., title: Konya Gezilecek Yerler 2024 - Konya'da Gezilecek Tarihi ... - Sabah, link: https://www.sabah.com.tr/galeri/yasam/konyada-gezilecek-yerler-konya-gezilecek-tarihi-turistik-yerler-muzeler-ve-mekanlar-k1, snippet: İç Anadolu Bölgesi'nde yer alan bu şehir, hem geçmişi hem de günümüzdeki yaşam tarzı ile ziyaretçilerine eşsiz bir deneyim sunmaktadır. İşte Konya hakkında bilmeniz gereken bazı önemli noktalar. Tarih ve Kültür. Konya, tarih boyunca birçok medeniyete ev sahipliği yapmış bir şehirdir., title: Konya Şehri Hakkında Bilmeniz Gerekenler: Kent Rehberi, link: https://konyaili.com.tr/konya-sehri-hakkinda-bilmeniz-gerekenler-kent-rehberi/, snippet: Konya, city, central Turkey. The city lies at an elevation of about 3,370 feet (1,027 metres) on the southwest edge of the central Anatolian Plateau and is surrounded by a narrow fertile plain. It is backed by Bozkır Mountain on the west and enclosed by the interior edges of the central ranges of the Taurus Mountains farther south. Pop., title: Konya | Turkey, Map, History, & Facts | Britannica, link: https://www.britannica.com/place/Konya\n"
     ]
    }
   ],
   "source": [
    "from langchain.utilities import DuckDuckGoSearchAPIWrapper\n",
    "\n",
    "wrapper=DuckDuckGoSearchAPIWrapper(region='tr-tr',max_results=3 , safesearch=\"modearate \")\n",
    "search = DuckDuckGoSearchResults(api_wrapper=wrapper,source ='news')\n",
    "output =search.run('konya')\n",
    "print(output)"
   ]
  },
  {
   "cell_type": "code",
   "execution_count": null,
   "metadata": {},
   "outputs": [],
   "source": []
  },
  {
   "cell_type": "markdown",
   "metadata": {},
   "source": [
    "React Agents:"
   ]
  },
  {
   "cell_type": "code",
   "execution_count": 12,
   "metadata": {},
   "outputs": [
    {
     "data": {
      "text/plain": [
       "True"
      ]
     },
     "execution_count": 12,
     "metadata": {},
     "output_type": "execute_result"
    }
   ],
   "source": [
    "import warnings\n",
    "warnings.filterwarnings('ignore')\n",
    "import os \n",
    "from dotenv import load_dotenv,find_dotenv\n",
    "load_dotenv(find_dotenv(),override=True)"
   ]
  },
  {
   "cell_type": "code",
   "execution_count": 14,
   "metadata": {},
   "outputs": [
    {
     "name": "stdout",
     "output_type": "stream",
     "text": [
      "<class 'langchain_core.prompts.prompt.PromptTemplate'>\n",
      "['agent_scratchpad', 'input', 'tool_names', 'tools']\n"
     ]
    }
   ],
   "source": [
    "from langchain.prompts import PromptTemplate\n",
    "from langchain import hub\n",
    "from langchain.agents import Tool , AgentExecutor,initialize_agent,create_react_agent\n",
    "from langchain.tools import DuckDuckGoSearchRun,WikipediaQueryRun\n",
    "from langchain_experimental.tools.python.tool import PythonAstREPLTool\n",
    "from langchain_openai import ChatOpenAI\n",
    "\n",
    "llm = ChatOpenAI(model=\"gpt-3.5-turbo\",temperature=0.7)\n",
    "\n",
    "template = '''\n",
    "Answer the following questions\n",
    "questions {q}'''\n",
    "prompt_template = PromptTemplate.from_template(template=template)\n",
    "prompt = hub.pull('hwchase17/react')\n",
    "print(type(prompt))\n",
    "print(prompt.input_variables)\n",
    "print(prompt.template)"
   ]
  },
  {
   "cell_type": "code",
   "execution_count": 15,
   "metadata": {},
   "outputs": [
    {
     "name": "stdout",
     "output_type": "stream",
     "text": [
      "Answer the following questions as best you can. You have access to the following tools:\n",
      "\n",
      "{tools}\n",
      "\n",
      "Use the following format:\n",
      "\n",
      "Question: the input question you must answer\n",
      "Thought: you should always think about what to do\n",
      "Action: the action to take, should be one of [{tool_names}]\n",
      "Action Input: the input to the action\n",
      "Observation: the result of the action\n",
      "... (this Thought/Action/Action Input/Observation can repeat N times)\n",
      "Thought: I now know the final answer\n",
      "Final Answer: the final answer to the original input question\n",
      "\n",
      "Begin!\n",
      "\n",
      "Question: {input}\n",
      "Thought:{agent_scratchpad}\n"
     ]
    }
   ],
   "source": [
    "#python repl \n",
    "pyhton_repl =PythonAstREPLTool()\n",
    "pyhton_repl_tool = Tool(name='PythonREPLTool', func= )"
   ]
  },
  {
   "cell_type": "code",
   "execution_count": null,
   "metadata": {},
   "outputs": [],
   "source": []
  }
 ],
 "metadata": {
  "kernelspec": {
   "display_name": "base",
   "language": "python",
   "name": "python3"
  },
  "language_info": {
   "codemirror_mode": {
    "name": "ipython",
    "version": 3
   },
   "file_extension": ".py",
   "mimetype": "text/x-python",
   "name": "python",
   "nbconvert_exporter": "python",
   "pygments_lexer": "ipython3",
   "version": "3.12.4"
  }
 },
 "nbformat": 4,
 "nbformat_minor": 2
}

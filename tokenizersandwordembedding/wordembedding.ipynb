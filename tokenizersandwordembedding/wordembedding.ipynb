{
 "cells": [
  {
   "cell_type": "code",
   "execution_count": 19,
   "metadata": {},
   "outputs": [
    {
     "name": "stderr",
     "output_type": "stream",
     "text": [
      "c:\\Users\\cengh\\anaconda3\\Lib\\site-packages\\transformers\\tokenization_utils_base.py:1601: FutureWarning: `clean_up_tokenization_spaces` was not set. It will be set to `True` by default. This behavior will be depracted in transformers v4.45, and will be then set to `False` by default. For more details check this issue: https://github.com/huggingface/transformers/issues/31884\n",
      "  warnings.warn(\n"
     ]
    }
   ],
   "source": [
    "from transformers import BertModel ,AutoTokenizer\n",
    "import pandas as pd\n",
    "\n",
    "model_name =\"bert-base-cased\"\n",
    "model = BertModel.from_pretrained(model_name)\n",
    "tokenizer = AutoTokenizer.from_pretrained(model_name)"
   ]
  },
  {
   "cell_type": "code",
   "execution_count": 20,
   "metadata": {},
   "outputs": [],
   "source": [
    "text = \"please tokenize me i cant calm down \"\n",
    "encoded_inputs = tokenizer(\n",
    "    text,\n",
    "    return_tensors=\"pt\",  # Girdileri PyTorch tensörlerine dönüştürür\n",
    "    padding=True,         # Gerekirse padding ekler\n",
    "    truncation=True       # Girdiyi modelin maksimum uzunluğuna göre keser\n",
    ")\n",
    "\n"
   ]
  },
  {
   "cell_type": "code",
   "execution_count": 21,
   "metadata": {},
   "outputs": [
    {
     "data": {
      "text/plain": [
       "tensor([[[ 0.3846,  0.1107, -0.0967,  ..., -0.3005,  0.2625, -0.0990],\n",
       "         [ 0.2829,  0.1347,  0.5832,  ...,  0.3555,  0.0568,  0.3045],\n",
       "         [ 0.2966,  0.1532, -0.0649,  ...,  0.1455, -0.5977,  0.2414],\n",
       "         ...,\n",
       "         [-0.0132,  0.5309,  0.4833,  ...,  0.1797, -0.4526,  0.2160],\n",
       "         [-0.1609, -0.2197, -0.2674,  ..., -0.5845,  0.4751,  0.0583],\n",
       "         [-0.2619,  0.1864, -0.1510,  ..., -0.4201,  0.0296, -0.4993]]],\n",
       "       grad_fn=<NativeLayerNormBackward0>)"
      ]
     },
     "execution_count": 21,
     "metadata": {},
     "output_type": "execute_result"
    }
   ],
   "source": [
    "output = model(**encoded_inputs)\n",
    "last_hidden_state = output.last_hidden_state\n",
    "last_hidden_state"
   ]
  },
  {
   "cell_type": "code",
   "execution_count": 22,
   "metadata": {},
   "outputs": [],
   "source": [
    "pooler_output = output.pooler_output"
   ]
  },
  {
   "cell_type": "code",
   "execution_count": 23,
   "metadata": {},
   "outputs": [
    {
     "data": {
      "text/plain": [
       "torch.Size([1, 768])"
      ]
     },
     "execution_count": 23,
     "metadata": {},
     "output_type": "execute_result"
    }
   ],
   "source": [
    "last_hidden_state.shape\n",
    "pooler_output.shape"
   ]
  },
  {
   "cell_type": "code",
   "execution_count": 24,
   "metadata": {},
   "outputs": [],
   "source": [
    "def predict(text):\n",
    "    encoded_inputs = tokenizer(\n",
    "    text,\n",
    "    return_tensors=\"pt\",  # Girdileri PyTorch tensörlerine dönüştürür\n",
    "    padding=True,         # Gerekirse padding ekler\n",
    "    truncation=True       # Girdiyi modelin maksimum uzunluğuna göre keser\n",
    ")\n",
    "    return model(**encoded_inputs)[0]"
   ]
  },
  {
   "cell_type": "code",
   "execution_count": 25,
   "metadata": {},
   "outputs": [],
   "source": [
    "sentence1= \"  i love you babe\"\n",
    "sentence2 =\"where is the most beatiful place?\""
   ]
  },
  {
   "cell_type": "code",
   "execution_count": 26,
   "metadata": {},
   "outputs": [],
   "source": [
    "tokens1 = tokenizer.tokenize(sentence1)\n",
    "tokens2 = tokenizer.tokenize(sentence2)"
   ]
  },
  {
   "cell_type": "code",
   "execution_count": 28,
   "metadata": {},
   "outputs": [],
   "source": [
    "out1 = predict(sentence1)\n",
    "out2 = predict(sentence2)"
   ]
  },
  {
   "cell_type": "code",
   "execution_count": null,
   "metadata": {},
   "outputs": [],
   "source": []
  }
 ],
 "metadata": {
  "kernelspec": {
   "display_name": "base",
   "language": "python",
   "name": "python3"
  },
  "language_info": {
   "codemirror_mode": {
    "name": "ipython",
    "version": 3
   },
   "file_extension": ".py",
   "mimetype": "text/x-python",
   "name": "python",
   "nbconvert_exporter": "python",
   "pygments_lexer": "ipython3",
   "version": "3.12.4"
  }
 },
 "nbformat": 4,
 "nbformat_minor": 2
}
